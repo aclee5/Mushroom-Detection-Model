{
 "cells": [
  {
   "cell_type": "markdown",
   "id": "e3e1cc27-6e79-4970-bef3-07919690905e",
   "metadata": {},
   "source": [
    "# Mushroom Detection Model - Test and Implementation"
   ]
  },
  {
   "cell_type": "markdown",
   "id": "e8ab0432-1977-49b3-b88b-98c485693b02",
   "metadata": {},
   "source": [
    "## Import Basic Libraries"
   ]
  },
  {
   "cell_type": "code",
   "execution_count": 3,
   "id": "506f116c-775e-4a1c-bccb-2110f7bbd02c",
   "metadata": {},
   "outputs": [],
   "source": [
    "# import default libraries \n",
    "import numpy as np \n",
    "import pandas as pd \n",
    "import matplotlib.pyplot as plt\n",
    "import tensorflow as tf\n",
    "from tensorflow import keras\n",
    "import cv2\n",
    "import seaborn as sns\n",
    "import glob\n",
    "import xml.etree.ElementTree as ET\n",
    "from PIL import Image\n",
    "import os\n",
    "import shutil\n",
    "import torch"
   ]
  },
  {
   "cell_type": "code",
   "execution_count": 1,
   "id": "347f3bfa-211f-448a-9e6b-f42b21b14c3e",
   "metadata": {},
   "outputs": [
    {
     "name": "stdout",
     "output_type": "stream",
     "text": [
      "Ultralytics 8.3.17  Python-3.12.6 torch-2.5.1+cu124 CUDA:0 (NVIDIA GeForce RTX 3080 Laptop GPU, 16384MiB)\n",
      "Setup complete  (16 CPUs, 31.7 GB RAM, 578.5/931.0 GB disk)\n"
     ]
    }
   ],
   "source": [
    "import ultralytics\n",
    "ultralytics.checks()"
   ]
  },
  {
   "cell_type": "code",
   "execution_count": 18,
   "id": "ea92cbbb-f136-4dac-96ea-d0d1ba08193a",
   "metadata": {},
   "outputs": [],
   "source": [
    "test_image_dir = 'mushroom-data/test/images/*'\n",
    "test_label_dir = 'mushroom-data/test/labels/*'"
   ]
  },
  {
   "cell_type": "code",
   "execution_count": 42,
   "id": "565d3d7a-720e-43c5-90fe-b135b32ebf31",
   "metadata": {},
   "outputs": [],
   "source": [
    "mush_class_dict = {'0': 'Amanita citrina', \n",
    "              '1': 'Amanita hemibapha', \n",
    "              '2': 'Amanita javanica', \n",
    "              '3': 'Amanita pantherina', \n",
    "              '4': 'Amanita princeps', \n",
    "              '5': 'Boletus reticulatus', \n",
    "              '6':'Coltricia perennis', \n",
    "              '7': 'Gyromitra infula', \n",
    "              '8':'Hygrophoropsis aurantiaca', \n",
    "              '9': 'Imleria badia', \n",
    "              '10': 'Lactarius turpis', \n",
    "              '11': 'Russula emetica', \n",
    "              '12': 'Suillus grevillei', \n",
    "              '13': 'Suillus luteus'}"
   ]
  },
  {
   "cell_type": "code",
   "execution_count": 45,
   "id": "3e4dab9a-2b3b-40a3-bd6d-e454d962110f",
   "metadata": {},
   "outputs": [],
   "source": [
    "def get_ground_truth(image_path, label_dir, class_dict):\n",
    "    root_name = os.path.basename(image_path).removesuffix('.jpg')\n",
    "    mush_instances = []\n",
    "    mush_instance_names = []\n",
    "    for item in glob.glob(label_dir):\n",
    "        txt_file = os.path.basename(item)\n",
    "        if root_name in txt_file:\n",
    "            file_location = label_dir.strip('*') + '/' + txt_file\n",
    "            file_data = open(file_location, \"r\")\n",
    "            for line in file_data:\n",
    "                line.split()\n",
    "                data = line.split(' ')\n",
    "                mush_class = data[0]\n",
    "                mush_instances.append(mush_class)\n",
    "    for mush in mush_instances:\n",
    "        instance_class = class_dict[mush]\n",
    "        mush_instance_names.append(instance_class)\n",
    "    return mush_instance_names\n",
    "        "
   ]
  },
  {
   "cell_type": "code",
   "execution_count": 46,
   "id": "4633c3ae-54b2-4606-9853-2bf2f4c43d5b",
   "metadata": {},
   "outputs": [
    {
     "data": {
      "text/plain": [
       "['Coltricia perennis', 'Coltricia perennis', 'Coltricia perennis']"
      ]
     },
     "execution_count": 46,
     "metadata": {},
     "output_type": "execute_result"
    }
   ],
   "source": [
    "get_ground_truth(\"mushroom-data/test/images/6652medium_jpg.rf.d2aae7353fc0d694f8215c7b4714ea5f.jpg\", test_label_dir, mush_class_dict)"
   ]
  },
  {
   "cell_type": "code",
   "execution_count": null,
   "id": "a00bc664-765a-471f-b2cf-d4db04afa75a",
   "metadata": {},
   "outputs": [],
   "source": []
  }
 ],
 "metadata": {
  "kernelspec": {
   "display_name": "Python 3 (ipykernel)",
   "language": "python",
   "name": "python3"
  },
  "language_info": {
   "codemirror_mode": {
    "name": "ipython",
    "version": 3
   },
   "file_extension": ".py",
   "mimetype": "text/x-python",
   "name": "python",
   "nbconvert_exporter": "python",
   "pygments_lexer": "ipython3",
   "version": "3.12.6"
  }
 },
 "nbformat": 4,
 "nbformat_minor": 5
}
