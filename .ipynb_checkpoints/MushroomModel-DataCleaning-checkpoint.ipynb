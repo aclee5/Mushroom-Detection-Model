{
 "cells": [
  {
   "cell_type": "markdown",
   "id": "25217e92-f9ac-4d87-93eb-38fcc3ff8178",
   "metadata": {},
   "source": [
    "# Mushroom Dataset Distribution Analysis"
   ]
  },
  {
   "cell_type": "code",
   "execution_count": 125,
   "id": "4613175c-4d0b-4e14-baee-47a527abf51b",
   "metadata": {},
   "outputs": [],
   "source": [
    "import numpy as np \n",
    "import pandas as pd \n",
    "import matplotlib.pyplot as plt\n",
    "import tensorflow as tf\n",
    "from tensorflow import keras\n",
    "import cv2\n",
    "import seaborn as sns\n",
    "import glob\n",
    "import xml.etree.ElementTree as ET\n",
    "from PIL import Image\n",
    "import os\n",
    "import shutil\n",
    "import torch"
   ]
  },
  {
   "cell_type": "code",
   "execution_count": 67,
   "id": "40573307-9942-4a21-9453-1b73e3dd1265",
   "metadata": {},
   "outputs": [],
   "source": [
    "# get data about classes from each of the labels\n",
    "test_label_path = \"data/Mushrooms100.v16-dataset-14-types-2.yolov8/test/labels/*\"\n",
    "valid_label_path = \"data/Mushrooms100.v16-dataset-14-types-2.yolov8/valid/labels/*\"\n",
    "train_label_path = \"data/Mushrooms100.v16-dataset-14-types-2.yolov8/train/labels/*\"\n",
    "class_labels = ['0', '1','2','3','4','5','6','7','8','9','10', '11', '12', '13'] "
   ]
  },
  {
   "cell_type": "code",
   "execution_count": 140,
   "id": "948ca4ae-f6e5-405f-bcdf-13a02c22c3c7",
   "metadata": {},
   "outputs": [],
   "source": [
    "def load_data_for_count(file_path, label_list):\n",
    "    count = 0\n",
    "    data_output = []\n",
    "    for item in glob.glob(file_path):\n",
    "        file_name = os.path.basename(item)\n",
    "        folder_path = file_path.strip('*')\n",
    "        file_location = folder_path + file_name\n",
    "        file_data = open(file_location, \"r\")\n",
    "        for line in file_data:\n",
    "            line.split()\n",
    "            data = line.split(' ')\n",
    "            mush_class = data[0]\n",
    "            data_output.append(mush_class)\n",
    "    return np.array(data_output)\n"
   ]
  },
  {
   "cell_type": "code",
   "execution_count": null,
   "id": "d80e79e8-aa7e-408e-b2a8-7578e4da61dd",
   "metadata": {},
   "outputs": [],
   "source": []
  },
  {
   "cell_type": "code",
   "execution_count": null,
   "id": "cd074827-0d03-4fdc-8613-49f211a3a3ad",
   "metadata": {},
   "outputs": [],
   "source": [
    "def count_dict(array, to_dict)\n",
    "    "
   ]
  },
  {
   "cell_type": "code",
   "execution_count": 141,
   "id": "b0d82042-d672-42fa-b569-d798d213ba7d",
   "metadata": {},
   "outputs": [
    {
     "name": "stdout",
     "output_type": "stream",
     "text": [
      "['0' '7' '7' '7' '7' '7' '7' '7' '7' '7' '7' '7' '7' '7' '7' '7' '7' '7'\n",
      " '7' '7' '7' '7' '7' '7' '7' '0' '8' '8' '8' '8' '8' '8' '8' '8' '8' '8'\n",
      " '8' '8' '8' '8' '8' '8' '8' '8' '8' '8' '8' '0' '9' '9' '9' '9' '9' '9'\n",
      " '9' '9' '9' '9' '9' '9' '9' '9' '9' '9' '9' '0' '0' '0' '0' '0' '0' '0'\n",
      " '5' '0' '5' '0' '0' '0' '5' '5' '5' '0' '0' '5' '5' '5' '5' '5' '5' '5'\n",
      " '5' '5' '5' '5' '5' '5' '0' '0' '0' '0' '0' '0' '0' '0' '0' '0' '3' '3'\n",
      " '3' '3' '3' '3' '3' '0' '3' '3' '3' '6' '6' '6' '6' '6' '6' '6' '6' '6'\n",
      " '6' '6' '6' '6' '6' '6' '6' '6' '6' '0' '0' '0' '0' '0' '0' '0' '0' '2'\n",
      " '2' '2' '2' '2' '2' '2' '2' '2' '2' '2' '2' '2' '2' '2' '2' '2' '2' '2'\n",
      " '2' '2' '2' '2' '2' '2' '2' '2' '2' '2' '2' '2' '2' '2' '2' '2' '2' '2'\n",
      " '2' '2' '2' '2' '2']\n"
     ]
    }
   ],
   "source": [
    "test_data=load_data_for_count(test_label_path, class_labels)\n",
    "print(test_data)"
   ]
  },
  {
   "cell_type": "code",
   "execution_count": null,
   "id": "28c5b955-3544-485d-8f17-335805d6fd79",
   "metadata": {},
   "outputs": [],
   "source": []
  }
 ],
 "metadata": {
  "kernelspec": {
   "display_name": "Python 3 (ipykernel)",
   "language": "python",
   "name": "python3"
  },
  "language_info": {
   "codemirror_mode": {
    "name": "ipython",
    "version": 3
   },
   "file_extension": ".py",
   "mimetype": "text/x-python",
   "name": "python",
   "nbconvert_exporter": "python",
   "pygments_lexer": "ipython3",
   "version": "3.12.6"
  }
 },
 "nbformat": 4,
 "nbformat_minor": 5
}
