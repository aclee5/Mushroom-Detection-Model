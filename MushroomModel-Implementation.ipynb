{
 "cells": [
  {
   "cell_type": "markdown",
   "id": "e3e1cc27-6e79-4970-bef3-07919690905e",
   "metadata": {},
   "source": [
    "# Mushroom Detection Model-Implementation"
   ]
  },
  {
   "cell_type": "markdown",
   "id": "e8ab0432-1977-49b3-b88b-98c485693b02",
   "metadata": {},
   "source": [
    "## Import Basic Libraries"
   ]
  },
  {
   "cell_type": "code",
   "execution_count": null,
   "id": "506f116c-775e-4a1c-bccb-2110f7bbd02c",
   "metadata": {},
   "outputs": [],
   "source": [
    "# import default libraries \n",
    "import numpy as np \n",
    "import pandas as pd \n",
    "import matplotlib.pyplot as plt\n",
    "import tensorflow as tf\n",
    "from tensorflow import keras\n",
    "import cv2\n",
    "import seaborn as sns\n",
    "import glob\n",
    "import xml.etree.ElementTree as ET\n",
    "from PIL import Image\n",
    "import os\n",
    "import shutil\n",
    "import torch"
   ]
  },
  {
   "cell_type": "code",
   "execution_count": 1,
   "id": "347f3bfa-211f-448a-9e6b-f42b21b14c3e",
   "metadata": {},
   "outputs": [
    {
     "name": "stdout",
     "output_type": "stream",
     "text": [
      "Ultralytics 8.3.17  Python-3.12.6 torch-2.5.1+cu124 CUDA:0 (NVIDIA GeForce RTX 3080 Laptop GPU, 16384MiB)\n",
      "Setup complete  (16 CPUs, 31.7 GB RAM, 578.5/931.0 GB disk)\n"
     ]
    }
   ],
   "source": [
    "import ultralytics\n",
    "ultralytics.checks()"
   ]
  },
  {
   "cell_type": "code",
   "execution_count": null,
   "id": "ea92cbbb-f136-4dac-96ea-d0d1ba08193a",
   "metadata": {},
   "outputs": [],
   "source": []
  }
 ],
 "metadata": {
  "kernelspec": {
   "display_name": "Python 3 (ipykernel)",
   "language": "python",
   "name": "python3"
  },
  "language_info": {
   "codemirror_mode": {
    "name": "ipython",
    "version": 3
   },
   "file_extension": ".py",
   "mimetype": "text/x-python",
   "name": "python",
   "nbconvert_exporter": "python",
   "pygments_lexer": "ipython3",
   "version": "3.12.6"
  }
 },
 "nbformat": 4,
 "nbformat_minor": 5
}
